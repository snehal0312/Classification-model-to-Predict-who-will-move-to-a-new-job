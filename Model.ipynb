{
 "cells": [
  {
   "cell_type": "markdown",
   "id": "a23a2ca6",
   "metadata": {},
   "source": [
    "## Objective :- To predict whether employee is looking for new job or not"
   ]
  },
  {
   "cell_type": "markdown",
   "id": "0f124604",
   "metadata": {},
   "source": [
    "* **enrollee_id : Unique ID for candidate**\n",
    "\n",
    "* **city: City code**\n",
    "\n",
    "* **city_ development _index : Developement index of the city (scaled)**\n",
    "\n",
    "* **gender: Gender of candidate**\n",
    "\n",
    "* **relevent_experience: Relevant experience of candidate**\n",
    "\n",
    "* **enrolled_university: Type of University course enrolled if any**\n",
    "\n",
    "* **education_level: Education level of candidate**\n",
    "\n",
    "* **major_discipline :Education major discipline of candidate**\n",
    "\n",
    "* **experience: Candidate total experience in years**\n",
    "\n",
    "* **company_size: No of employees in current employer's company**\n",
    "\n",
    "* **company_type : Type of current employer**\n",
    "\n",
    "* **lastnewjob: Difference in years between previous job and current job**\n",
    "\n",
    "* **training_hours: training hours completed**\n",
    "\n",
    "* **target: 0 – Not looking for job change, 1 – Looking for a job change**"
   ]
  },
  {
   "cell_type": "code",
   "execution_count": 1,
   "id": "bcf25a11",
   "metadata": {},
   "outputs": [],
   "source": [
    "import pandas as pd\n",
    "import numpy as np\n",
    "import matplotlib.pyplot as plt\n",
    "import seaborn as sns\n",
    "import plotly.express as px\n",
    "import plotly"
   ]
  },
  {
   "cell_type": "markdown",
   "id": "defd55a2",
   "metadata": {},
   "source": [
    "### Import Data "
   ]
  },
  {
   "cell_type": "code",
   "execution_count": 2,
   "id": "f0481c86",
   "metadata": {},
   "outputs": [],
   "source": [
    "aug = pd.read_csv(r\"D:\\Capstone_project_1\\Employee\\aug_train.csv\")"
   ]
  },
  {
   "cell_type": "code",
   "execution_count": 3,
   "id": "17df1ca2",
   "metadata": {},
   "outputs": [
    {
     "data": {
      "text/plain": [
       "(19158, 14)"
      ]
     },
     "execution_count": 3,
     "metadata": {},
     "output_type": "execute_result"
    }
   ],
   "source": [
    "aug.shape"
   ]
  },
  {
   "cell_type": "code",
   "execution_count": 4,
   "id": "f3750c1c",
   "metadata": {},
   "outputs": [
    {
     "data": {
      "text/html": [
       "<div>\n",
       "<style scoped>\n",
       "    .dataframe tbody tr th:only-of-type {\n",
       "        vertical-align: middle;\n",
       "    }\n",
       "\n",
       "    .dataframe tbody tr th {\n",
       "        vertical-align: top;\n",
       "    }\n",
       "\n",
       "    .dataframe thead th {\n",
       "        text-align: right;\n",
       "    }\n",
       "</style>\n",
       "<table border=\"1\" class=\"dataframe\">\n",
       "  <thead>\n",
       "    <tr style=\"text-align: right;\">\n",
       "      <th></th>\n",
       "      <th>enrollee_id</th>\n",
       "      <th>city</th>\n",
       "      <th>city_development_index</th>\n",
       "      <th>gender</th>\n",
       "      <th>relevent_experience</th>\n",
       "      <th>enrolled_university</th>\n",
       "      <th>education_level</th>\n",
       "      <th>major_discipline</th>\n",
       "      <th>experience</th>\n",
       "      <th>company_size</th>\n",
       "      <th>company_type</th>\n",
       "      <th>last_new_job</th>\n",
       "      <th>training_hours</th>\n",
       "      <th>target</th>\n",
       "    </tr>\n",
       "  </thead>\n",
       "  <tbody>\n",
       "    <tr>\n",
       "      <th>0</th>\n",
       "      <td>8949</td>\n",
       "      <td>city_103</td>\n",
       "      <td>0.920</td>\n",
       "      <td>Male</td>\n",
       "      <td>Has relevent experience</td>\n",
       "      <td>no_enrollment</td>\n",
       "      <td>Graduate</td>\n",
       "      <td>STEM</td>\n",
       "      <td>&gt;20</td>\n",
       "      <td>NaN</td>\n",
       "      <td>NaN</td>\n",
       "      <td>1</td>\n",
       "      <td>36</td>\n",
       "      <td>1.0</td>\n",
       "    </tr>\n",
       "    <tr>\n",
       "      <th>1</th>\n",
       "      <td>29725</td>\n",
       "      <td>city_40</td>\n",
       "      <td>0.776</td>\n",
       "      <td>Male</td>\n",
       "      <td>No relevent experience</td>\n",
       "      <td>no_enrollment</td>\n",
       "      <td>Graduate</td>\n",
       "      <td>STEM</td>\n",
       "      <td>15</td>\n",
       "      <td>50-99</td>\n",
       "      <td>Pvt Ltd</td>\n",
       "      <td>&gt;4</td>\n",
       "      <td>47</td>\n",
       "      <td>0.0</td>\n",
       "    </tr>\n",
       "    <tr>\n",
       "      <th>2</th>\n",
       "      <td>11561</td>\n",
       "      <td>city_21</td>\n",
       "      <td>0.624</td>\n",
       "      <td>NaN</td>\n",
       "      <td>No relevent experience</td>\n",
       "      <td>Full time course</td>\n",
       "      <td>Graduate</td>\n",
       "      <td>STEM</td>\n",
       "      <td>5</td>\n",
       "      <td>NaN</td>\n",
       "      <td>NaN</td>\n",
       "      <td>never</td>\n",
       "      <td>83</td>\n",
       "      <td>0.0</td>\n",
       "    </tr>\n",
       "    <tr>\n",
       "      <th>3</th>\n",
       "      <td>33241</td>\n",
       "      <td>city_115</td>\n",
       "      <td>0.789</td>\n",
       "      <td>NaN</td>\n",
       "      <td>No relevent experience</td>\n",
       "      <td>NaN</td>\n",
       "      <td>Graduate</td>\n",
       "      <td>Business Degree</td>\n",
       "      <td>&lt;1</td>\n",
       "      <td>NaN</td>\n",
       "      <td>Pvt Ltd</td>\n",
       "      <td>never</td>\n",
       "      <td>52</td>\n",
       "      <td>1.0</td>\n",
       "    </tr>\n",
       "    <tr>\n",
       "      <th>4</th>\n",
       "      <td>666</td>\n",
       "      <td>city_162</td>\n",
       "      <td>0.767</td>\n",
       "      <td>Male</td>\n",
       "      <td>Has relevent experience</td>\n",
       "      <td>no_enrollment</td>\n",
       "      <td>Masters</td>\n",
       "      <td>STEM</td>\n",
       "      <td>&gt;20</td>\n",
       "      <td>50-99</td>\n",
       "      <td>Funded Startup</td>\n",
       "      <td>4</td>\n",
       "      <td>8</td>\n",
       "      <td>0.0</td>\n",
       "    </tr>\n",
       "  </tbody>\n",
       "</table>\n",
       "</div>"
      ],
      "text/plain": [
       "   enrollee_id      city  city_development_index gender  \\\n",
       "0         8949  city_103                   0.920   Male   \n",
       "1        29725   city_40                   0.776   Male   \n",
       "2        11561   city_21                   0.624    NaN   \n",
       "3        33241  city_115                   0.789    NaN   \n",
       "4          666  city_162                   0.767   Male   \n",
       "\n",
       "       relevent_experience enrolled_university education_level  \\\n",
       "0  Has relevent experience       no_enrollment        Graduate   \n",
       "1   No relevent experience       no_enrollment        Graduate   \n",
       "2   No relevent experience    Full time course        Graduate   \n",
       "3   No relevent experience                 NaN        Graduate   \n",
       "4  Has relevent experience       no_enrollment         Masters   \n",
       "\n",
       "  major_discipline experience company_size    company_type last_new_job  \\\n",
       "0             STEM        >20          NaN             NaN            1   \n",
       "1             STEM         15        50-99         Pvt Ltd           >4   \n",
       "2             STEM          5          NaN             NaN        never   \n",
       "3  Business Degree         <1          NaN         Pvt Ltd        never   \n",
       "4             STEM        >20        50-99  Funded Startup            4   \n",
       "\n",
       "   training_hours  target  \n",
       "0              36     1.0  \n",
       "1              47     0.0  \n",
       "2              83     0.0  \n",
       "3              52     1.0  \n",
       "4               8     0.0  "
      ]
     },
     "execution_count": 4,
     "metadata": {},
     "output_type": "execute_result"
    }
   ],
   "source": [
    "aug.head()"
   ]
  },
  {
   "cell_type": "code",
   "execution_count": 5,
   "id": "af40aa8e",
   "metadata": {},
   "outputs": [],
   "source": [
    "aug = aug.iloc[:,1:]"
   ]
  },
  {
   "cell_type": "code",
   "execution_count": 6,
   "id": "2b2b5a03",
   "metadata": {},
   "outputs": [
    {
     "data": {
      "text/plain": [
       "(19158, 13)"
      ]
     },
     "execution_count": 6,
     "metadata": {},
     "output_type": "execute_result"
    }
   ],
   "source": [
    "aug.shape"
   ]
  },
  {
   "cell_type": "markdown",
   "id": "7e9735e7",
   "metadata": {},
   "source": [
    "### Missing Value Imputation "
   ]
  },
  {
   "cell_type": "code",
   "execution_count": 6,
   "id": "14c8a140",
   "metadata": {},
   "outputs": [
    {
     "data": {
      "text/plain": [
       "city                         0\n",
       "city_development_index       0\n",
       "gender                    4508\n",
       "relevent_experience          0\n",
       "enrolled_university        386\n",
       "education_level            460\n",
       "major_discipline          2813\n",
       "experience                  65\n",
       "company_size              5938\n",
       "company_type              6140\n",
       "last_new_job               423\n",
       "training_hours               0\n",
       "target                       0\n",
       "dtype: int64"
      ]
     },
     "execution_count": 6,
     "metadata": {},
     "output_type": "execute_result"
    }
   ],
   "source": [
    "aug.isnull().sum()  # Total nulls present in each columns"
   ]
  },
  {
   "cell_type": "code",
   "execution_count": 7,
   "id": "acad6fe2",
   "metadata": {},
   "outputs": [
    {
     "name": "stdout",
     "output_type": "stream",
     "text": [
      "<class 'pandas.core.frame.DataFrame'>\n",
      "RangeIndex: 19158 entries, 0 to 19157\n",
      "Data columns (total 13 columns):\n",
      " #   Column                  Non-Null Count  Dtype  \n",
      "---  ------                  --------------  -----  \n",
      " 0   city                    19158 non-null  object \n",
      " 1   city_development_index  19158 non-null  float64\n",
      " 2   gender                  14650 non-null  object \n",
      " 3   relevent_experience     19158 non-null  object \n",
      " 4   enrolled_university     18772 non-null  object \n",
      " 5   education_level         18698 non-null  object \n",
      " 6   major_discipline        16345 non-null  object \n",
      " 7   experience              19093 non-null  object \n",
      " 8   company_size            13220 non-null  object \n",
      " 9   company_type            13018 non-null  object \n",
      " 10  last_new_job            18735 non-null  object \n",
      " 11  training_hours          19158 non-null  int64  \n",
      " 12  target                  19158 non-null  float64\n",
      "dtypes: float64(2), int64(1), object(10)\n",
      "memory usage: 1.9+ MB\n"
     ]
    }
   ],
   "source": [
    "aug.info()"
   ]
  },
  {
   "cell_type": "code",
   "execution_count": 8,
   "id": "dbb9108b",
   "metadata": {},
   "outputs": [],
   "source": [
    "missing_columns = aug.columns[aug.isnull().sum()>0]"
   ]
  },
  {
   "cell_type": "code",
   "execution_count": 12,
   "id": "5261c018",
   "metadata": {},
   "outputs": [
    {
     "data": {
      "text/plain": [
       "<BarContainer object of 8 artists>"
      ]
     },
     "execution_count": 12,
     "metadata": {},
     "output_type": "execute_result"
    },
    {
     "data": {
      "image/png": "[encoded data removed]",
      "text/plain": [
       "<Figure size 1080x432 with 1 Axes>"
      ]
     },
     "metadata": {
      "needs_background": "light"
     },
     "output_type": "display_data"
    }
   ],
   "source": [
    "percent_missing = aug[missing_columns].isnull().sum() * 100 / len(aug)\n",
    "missing_value_df = pd.DataFrame({'column_name': aug[missing_columns].columns,\n",
    "                                 'percent_missing': percent_missing})\n",
    "\n",
    "plt.figure(figsize=(15,6))\n",
    "plt.bar(x=missing_value_df.column_name, height=missing_value_df.percent_missing)"
   ]
  },
  {
   "cell_type": "code",
   "execution_count": 10,
   "id": "0c4efc8a",
   "metadata": {},
   "outputs": [
    {
     "data": {
      "text/plain": [
       "no_enrollment       13817\n",
       "Full time course     3757\n",
       "Part time course     1198\n",
       "Name: enrolled_university, dtype: int64"
      ]
     },
     "execution_count": 10,
     "metadata": {},
     "output_type": "execute_result"
    }
   ],
   "source": [
    "aug.enrolled_university.value_counts()"
   ]
  },
  {
   "cell_type": "code",
   "execution_count": 11,
   "id": "265f4a6f",
   "metadata": {},
   "outputs": [],
   "source": [
    "aug.gender.fillna(\"Male\",inplace=True)\n",
    "aug.enrolled_university.fillna(\"no_enrollment\",inplace=True)\n",
    "aug.education_level.fillna(\"High School\",inplace=True)\n",
    "aug.major_discipline.fillna(\"STEM\",inplace=True)\n",
    "aug.experience.fillna(\"0\",inplace=True)\n",
    "aug.company_size.fillna(\"50-99\",inplace=True)\n",
    "aug.company_type.fillna(\"Pvt Ltd\",inplace=True)\n",
    "aug.last_new_job.fillna(\"1\",inplace=True)"
   ]
  },
  {
   "cell_type": "code",
   "execution_count": 12,
   "id": "ca94d121",
   "metadata": {},
   "outputs": [
    {
     "data": {
      "text/plain": [
       "no_enrollment       14203\n",
       "Full time course     3757\n",
       "Part time course     1198\n",
       "Name: enrolled_university, dtype: int64"
      ]
     },
     "execution_count": 12,
     "metadata": {},
     "output_type": "execute_result"
    }
   ],
   "source": [
    "aug.enrolled_university.value_counts()"
   ]
  },
  {
   "cell_type": "markdown",
   "id": "7bc17894",
   "metadata": {},
   "source": [
    "### Exploratory Data Analysis "
   ]
  },
  {
   "cell_type": "code",
   "execution_count": 13,
   "id": "e26935de",
   "metadata": {},
   "outputs": [
    {
     "data": {
      "image/png": "[encoded data removed]",
      "text/plain": [
       "<Figure size 864x576 with 1 Axes>"
      ]
     },
     "metadata": {
      "needs_background": "light"
     },
     "output_type": "display_data"
    }
   ],
   "source": [
    "plt.figure(figsize=(12,8))\n",
    "sns.countplot(data =aug, x='gender', hue='target');"
   ]
  },
  {
   "cell_type": "code",
   "execution_count": 14,
   "id": "056db207",
   "metadata": {
    "scrolled": false
   },
   "outputs": [
    {
     "data": {
      "image/png": "[encoded data removed]",
      "text/plain": [
       "<Figure size 864x576 with 1 Axes>"
      ]
     },
     "metadata": {
      "needs_background": "light"
     },
     "output_type": "display_data"
    }
   ],
   "source": [
    "plt.figure(figsize=(12,8))\n",
    "sns.countplot(data=aug, x='target');"
   ]
  },
  {
   "cell_type": "code",
   "execution_count": 15,
   "id": "510ab35f",
   "metadata": {},
   "outputs": [
    {
     "data": {
      "image/png": "[encoded data removed]",
      "text/plain": [
       "<Figure size 864x576 with 1 Axes>"
      ]
     },
     "metadata": {
      "needs_background": "light"
     },
     "output_type": "display_data"
    }
   ],
   "source": [
    "plt.figure(figsize=(12,8))\n",
    "sns.countplot(x=aug.relevent_experience, hue=aug.target);"
   ]
  },
  {
   "cell_type": "code",
   "execution_count": 16,
   "id": "9c9c428b",
   "metadata": {},
   "outputs": [
    {
     "data": {
      "image/png": "[encoded data removed]",
      "text/plain": [
       "<Figure size 864x576 with 1 Axes>"
      ]
     },
     "metadata": {
      "needs_background": "light"
     },
     "output_type": "display_data"
    }
   ],
   "source": [
    "plt.figure(figsize=(12,8))\n",
    "sns.countplot(data=aug, x='enrolled_university', hue='target');"
   ]
  },
  {
   "cell_type": "code",
   "execution_count": 17,
   "id": "26be2185",
   "metadata": {},
   "outputs": [
    {
     "data": {
      "image/png": "[encoded data removed]",
      "text/plain": [
       "<Figure size 877.75x360 with 2 Axes>"
      ]
     },
     "metadata": {
      "needs_background": "light"
     },
     "output_type": "display_data"
    }
   ],
   "source": [
    "sns.catplot(data=aug, x='enrolled_university', hue='relevent_experience', col='target', kind='count', height=5);"
   ]
  },
  {
   "cell_type": "code",
   "execution_count": 18,
   "id": "0c14cabe",
   "metadata": {},
   "outputs": [
    {
     "data": {
      "image/png": "[encoded data removed]",
      "text/plain": [
       "<Figure size 432x288 with 2 Axes>"
      ]
     },
     "metadata": {
      "needs_background": "light"
     },
     "output_type": "display_data"
    }
   ],
   "source": [
    "sns.heatmap(aug.corr(), annot=True);"
   ]
  },
  {
   "cell_type": "code",
   "execution_count": null,
   "id": "ba0fac44",
   "metadata": {},
   "outputs": [],
   "source": []
  },
  {
   "cell_type": "markdown",
   "id": "fbf9d9ec",
   "metadata": {},
   "source": [
    "### Converting Categorical variables into Numeric variables "
   ]
  },
  {
   "cell_type": "code",
   "execution_count": 19,
   "id": "2fabd9e3",
   "metadata": {},
   "outputs": [],
   "source": [
    "from sklearn.preprocessing import LabelEncoder\n",
    "le= LabelEncoder()\n",
    "aug[aug.select_dtypes(include=['object']).columns] =aug[aug.select_dtypes(include=['object']).columns].apply(le.fit_transform)"
   ]
  },
  {
   "cell_type": "code",
   "execution_count": 20,
   "id": "ce87df22",
   "metadata": {},
   "outputs": [],
   "source": [
    "aug_x = aug.iloc[:,:-1]\n",
    "aug_y = aug.iloc[:,-1]"
   ]
  },
  {
   "cell_type": "code",
   "execution_count": 21,
   "id": "63bf8f25",
   "metadata": {},
   "outputs": [],
   "source": [
    "from sklearn.model_selection import train_test_split\n",
    "aug_x_train, aug_x_test, aug_y_train, aug_y_test = train_test_split(aug_x,aug_y, test_size=.2)"
   ]
  },
  {
   "cell_type": "code",
   "execution_count": 22,
   "id": "dae33166",
   "metadata": {},
   "outputs": [
    {
     "data": {
      "text/plain": [
       "0.0    11475\n",
       "1.0     3851\n",
       "Name: target, dtype: int64"
      ]
     },
     "execution_count": 22,
     "metadata": {},
     "output_type": "execute_result"
    }
   ],
   "source": [
    "aug_y_train.value_counts()"
   ]
  },
  {
   "cell_type": "markdown",
   "id": "72464040",
   "metadata": {},
   "source": [
    "Now.... Here we can see that there is a problem of Class Imbalance\n",
    "\n",
    "So we can solve this problem either by manually doing oversampling and undersampling or we can use SMOTE\n",
    "(Synthetic Minority Oversampling Technique)\n",
    "\n",
    "Here we are going to use SMOTE"
   ]
  },
  {
   "cell_type": "code",
   "execution_count": 23,
   "id": "e1918988",
   "metadata": {},
   "outputs": [],
   "source": [
    "from imblearn.over_sampling import SMOTE\n",
    "sm = SMOTE(sampling_strategy=\"minority\")\n",
    "aug_x_train1, aug_y_train1 = sm.fit_resample(aug_x_train,aug_y_train)"
   ]
  },
  {
   "cell_type": "code",
   "execution_count": 24,
   "id": "7733fe92",
   "metadata": {},
   "outputs": [
    {
     "data": {
      "text/plain": [
       "0.0    11475\n",
       "1.0    11475\n",
       "Name: target, dtype: int64"
      ]
     },
     "execution_count": 24,
     "metadata": {},
     "output_type": "execute_result"
    }
   ],
   "source": [
    "aug_y_train1.value_counts()"
   ]
  },
  {
   "cell_type": "markdown",
   "id": "68aa2107",
   "metadata": {},
   "source": [
    "### Model Selection "
   ]
  },
  {
   "cell_type": "markdown",
   "id": "1757f144",
   "metadata": {},
   "source": [
    "#### Logistic Regression "
   ]
  },
  {
   "cell_type": "code",
   "execution_count": 25,
   "id": "63b3e4db",
   "metadata": {},
   "outputs": [
    {
     "name": "stdout",
     "output_type": "stream",
     "text": [
      "              precision    recall  f1-score   support\n",
      "\n",
      "         0.0       0.81      0.65      0.72      2906\n",
      "         1.0       0.33      0.54      0.41       926\n",
      "\n",
      "    accuracy                           0.62      3832\n",
      "   macro avg       0.57      0.59      0.56      3832\n",
      "weighted avg       0.70      0.62      0.65      3832\n",
      "\n"
     ]
    },
    {
     "name": "stderr",
     "output_type": "stream",
     "text": [
      "C:\\Users\\manis\\anaconda3\\lib\\site-packages\\sklearn\\linear_model\\_logistic.py:763: ConvergenceWarning:\n",
      "\n",
      "lbfgs failed to converge (status=1):\n",
      "STOP: TOTAL NO. of ITERATIONS REACHED LIMIT.\n",
      "\n",
      "Increase the number of iterations (max_iter) or scale the data as shown in:\n",
      "    https://scikit-learn.org/stable/modules/preprocessing.html\n",
      "Please also refer to the documentation for alternative solver options:\n",
      "    https://scikit-learn.org/stable/modules/linear_model.html#logistic-regression\n",
      "\n"
     ]
    }
   ],
   "source": [
    "from sklearn.linear_model import LogisticRegression\n",
    "from sklearn.metrics import confusion_matrix, classification_report\n",
    "lr = LogisticRegression()\n",
    "\n",
    "lr.fit(aug_x_train1,aug_y_train1)\n",
    "\n",
    "pred_lr = lr.predict(aug_x_test)\n",
    "\n",
    "print(classification_report(aug_y_test,pred_lr))"
   ]
  },
  {
   "cell_type": "code",
   "execution_count": 26,
   "id": "785ed768",
   "metadata": {},
   "outputs": [
    {
     "data": {
      "text/html": [
       "<div>\n",
       "<style scoped>\n",
       "    .dataframe tbody tr th:only-of-type {\n",
       "        vertical-align: middle;\n",
       "    }\n",
       "\n",
       "    .dataframe tbody tr th {\n",
       "        vertical-align: top;\n",
       "    }\n",
       "\n",
       "    .dataframe thead th {\n",
       "        text-align: right;\n",
       "    }\n",
       "</style>\n",
       "<table border=\"1\" class=\"dataframe\">\n",
       "  <thead>\n",
       "    <tr style=\"text-align: right;\">\n",
       "      <th></th>\n",
       "      <th>Pred_Prob0</th>\n",
       "      <th>Pred_prob1</th>\n",
       "    </tr>\n",
       "  </thead>\n",
       "  <tbody>\n",
       "    <tr>\n",
       "      <th>0</th>\n",
       "      <td>0.535046</td>\n",
       "      <td>0.464954</td>\n",
       "    </tr>\n",
       "    <tr>\n",
       "      <th>1</th>\n",
       "      <td>0.712478</td>\n",
       "      <td>0.287522</td>\n",
       "    </tr>\n",
       "    <tr>\n",
       "      <th>2</th>\n",
       "      <td>0.854465</td>\n",
       "      <td>0.145535</td>\n",
       "    </tr>\n",
       "    <tr>\n",
       "      <th>3</th>\n",
       "      <td>0.441976</td>\n",
       "      <td>0.558024</td>\n",
       "    </tr>\n",
       "    <tr>\n",
       "      <th>4</th>\n",
       "      <td>0.407618</td>\n",
       "      <td>0.592382</td>\n",
       "    </tr>\n",
       "  </tbody>\n",
       "</table>\n",
       "</div>"
      ],
      "text/plain": [
       "   Pred_Prob0  Pred_prob1\n",
       "0    0.535046    0.464954\n",
       "1    0.712478    0.287522\n",
       "2    0.854465    0.145535\n",
       "3    0.441976    0.558024\n",
       "4    0.407618    0.592382"
      ]
     },
     "execution_count": 26,
     "metadata": {},
     "output_type": "execute_result"
    }
   ],
   "source": [
    "pred_prob_train = lr.predict_proba(aug_x_train1)\n",
    "pred_prob_test  = lr.predict_proba(aug_x_test)\n",
    "\n",
    "pred_prob_test = pd.DataFrame(pred_prob_test)\n",
    "\n",
    "pred_prob_test.rename(columns ={pred_prob_test.columns[0]: \"Pred_Prob0\" , \n",
    "                                pred_prob_test.columns[1]: \"Pred_prob1\"} , inplace = True)\n",
    "pred_prob_test.head()"
   ]
  },
  {
   "cell_type": "code",
   "execution_count": 27,
   "id": "ab75dffb",
   "metadata": {},
   "outputs": [
    {
     "name": "stdout",
     "output_type": "stream",
     "text": [
      "AUROC CURVE =  0.592\n"
     ]
    },
    {
     "data": {
      "image/png": "[encoded data removed]",
      "text/plain": [
       "<Figure size 432x288 with 1 Axes>"
      ]
     },
     "metadata": {
      "needs_background": "light"
     },
     "output_type": "display_data"
    }
   ],
   "source": [
    "from sklearn.metrics import  roc_curve , roc_auc_score\n",
    "fpr , tpr , thershold = roc_curve(aug_y_test , pred_prob_test.iloc[: , 1] ) \n",
    "area_auroc = roc_auc_score(aug_y_test , pred_lr)\n",
    "area_auroc = np.round(area_auroc , 3)\n",
    "print('AUROC CURVE = ' , area_auroc )\n",
    "\n",
    "plt.plot(fpr , tpr , color = \"r\")\n",
    "plt.xlabel(\"FPr\")\n",
    "plt.ylabel(\"TPr\")\n",
    "plt.title(\"AUROC Curve\")\n",
    "plt.text(x = 0.5 , y = 0.5, s = area_auroc , size = 20)\n",
    "plt.grid()"
   ]
  },
  {
   "cell_type": "code",
   "execution_count": 28,
   "id": "fc710195",
   "metadata": {},
   "outputs": [],
   "source": [
    "model=[]\n",
    "accuracy = []\n",
    "recall = []\n",
    "precision = []\n",
    "f1 = []"
   ]
  },
  {
   "cell_type": "code",
   "execution_count": 29,
   "id": "77a32b5b",
   "metadata": {},
   "outputs": [],
   "source": [
    "from sklearn.metrics import accuracy_score, precision_score, recall_score, f1_score\n",
    "model.append(\"Logistic Regression\")\n",
    "accuracy.append(accuracy_score(aug_y_test,pred_lr))\n",
    "recall.append(recall_score(aug_y_test,pred_lr))\n",
    "precision.append(precision_score(aug_y_test,pred_lr))\n",
    "f1.append(f1_score(aug_y_test,pred_lr))"
   ]
  },
  {
   "cell_type": "markdown",
   "id": "bf6037d7",
   "metadata": {},
   "source": [
    "------------------------------------------------------------------------------------------------------------------------"
   ]
  },
  {
   "cell_type": "markdown",
   "id": "663c831b",
   "metadata": {},
   "source": [
    "#### KNN "
   ]
  },
  {
   "cell_type": "code",
   "execution_count": 30,
   "id": "1de88ae2",
   "metadata": {},
   "outputs": [
    {
     "name": "stdout",
     "output_type": "stream",
     "text": [
      "              precision    recall  f1-score   support\n",
      "\n",
      "         0.0       0.83      0.69      0.75      2906\n",
      "         1.0       0.36      0.55      0.43       926\n",
      "\n",
      "    accuracy                           0.65      3832\n",
      "   macro avg       0.59      0.62      0.59      3832\n",
      "weighted avg       0.71      0.65      0.67      3832\n",
      "\n"
     ]
    }
   ],
   "source": [
    "k = int(np.sqrt(aug.shape[0]))\n",
    "\n",
    "from sklearn.neighbors import KNeighborsClassifier\n",
    "knn = KNeighborsClassifier(n_neighbors=k)\n",
    "\n",
    "knn.fit(aug_x_train1,aug_y_train1)\n",
    "\n",
    "pred_knn = knn.predict(aug_x_test)\n",
    "\n",
    "print(classification_report(aug_y_test,pred_knn))"
   ]
  },
  {
   "cell_type": "code",
   "execution_count": 31,
   "id": "35c99479",
   "metadata": {},
   "outputs": [],
   "source": [
    "model.append(\"KNN\")\n",
    "accuracy.append(accuracy_score(aug_y_test,pred_knn))\n",
    "recall.append(recall_score(aug_y_test,pred_knn))\n",
    "precision.append(precision_score(aug_y_test,pred_knn))\n",
    "f1.append(f1_score(aug_y_test,pred_knn))"
   ]
  },
  {
   "cell_type": "markdown",
   "id": "87a2b815",
   "metadata": {},
   "source": [
    "--------------------------------------------------------------------------------------------------------------------------"
   ]
  },
  {
   "cell_type": "markdown",
   "id": "1d8185e9",
   "metadata": {},
   "source": [
    "#### Decision Tree "
   ]
  },
  {
   "cell_type": "code",
   "execution_count": 32,
   "id": "e2c198a5",
   "metadata": {},
   "outputs": [
    {
     "name": "stdout",
     "output_type": "stream",
     "text": [
      "              precision    recall  f1-score   support\n",
      "\n",
      "         0.0       0.82      0.73      0.77      2906\n",
      "         1.0       0.36      0.49      0.42       926\n",
      "\n",
      "    accuracy                           0.67      3832\n",
      "   macro avg       0.59      0.61      0.59      3832\n",
      "weighted avg       0.71      0.67      0.68      3832\n",
      "\n"
     ]
    }
   ],
   "source": [
    "from sklearn.tree import DecisionTreeClassifier\n",
    "dt = DecisionTreeClassifier()\n",
    "\n",
    "dt.fit(aug_x_train1,aug_y_train1)\n",
    "\n",
    "pred_dt = dt.predict(aug_x_test)\n",
    "\n",
    "print(classification_report(aug_y_test,pred_dt))"
   ]
  },
  {
   "cell_type": "code",
   "execution_count": 33,
   "id": "3579b19c",
   "metadata": {},
   "outputs": [],
   "source": [
    "model.append(\"Decision Tree\")\n",
    "accuracy.append(accuracy_score(aug_y_test,pred_dt))\n",
    "recall.append(recall_score(aug_y_test,pred_dt))\n",
    "precision.append(precision_score(aug_y_test,pred_dt))\n",
    "f1.append(f1_score(aug_y_test,pred_dt))"
   ]
  },
  {
   "cell_type": "markdown",
   "id": "2816cbf7",
   "metadata": {},
   "source": [
    "-------------------------------------------------------------------------------------------------------------------------"
   ]
  },
  {
   "cell_type": "markdown",
   "id": "0274e4f4",
   "metadata": {},
   "source": [
    "#### Decision Tree with grid search"
   ]
  },
  {
   "cell_type": "code",
   "execution_count": 34,
   "id": "178e11c3",
   "metadata": {},
   "outputs": [
    {
     "name": "stdout",
     "output_type": "stream",
     "text": [
      "{'criterion': 'entropy', 'max_depth': 7, 'min_samples_split': 75}\n",
      "[[2293  613]\n",
      " [ 398  528]]\n",
      "              precision    recall  f1-score   support\n",
      "\n",
      "         0.0       0.85      0.79      0.82      2906\n",
      "         1.0       0.46      0.57      0.51       926\n",
      "\n",
      "    accuracy                           0.74      3832\n",
      "   macro avg       0.66      0.68      0.67      3832\n",
      "weighted avg       0.76      0.74      0.74      3832\n",
      "\n"
     ]
    }
   ],
   "source": [
    "from sklearn.model_selection import GridSearchCV\n",
    "dt=DecisionTreeClassifier()\n",
    "\n",
    "search_dict={'criterion':('entropy','gini'),'max_depth':(4,5,6,7),'min_samples_split':(50,75,100)}\n",
    "\n",
    "grid_dt=GridSearchCV(dt,param_grid=search_dict)\n",
    "\n",
    "grid_dt.fit(aug_x_train1,aug_y_train1)\n",
    "\n",
    "print(grid_dt.best_params_)\n",
    "\n",
    "pred_grid_dt=grid_dt.predict(aug_x_test)\n",
    "\n",
    "tab_grid_dt = confusion_matrix(aug_y_test, pred_grid_dt)\n",
    "print(tab_grid_dt)\n",
    "\n",
    "print(classification_report(aug_y_test, pred_grid_dt))"
   ]
  },
  {
   "cell_type": "code",
   "execution_count": 35,
   "id": "b7299fb8",
   "metadata": {},
   "outputs": [],
   "source": [
    "model.append(\"Decision Tree with grid search\")\n",
    "accuracy.append(accuracy_score(aug_y_test,pred_grid_dt))\n",
    "recall.append(recall_score(aug_y_test,pred_grid_dt))\n",
    "precision.append(precision_score(aug_y_test,pred_grid_dt))\n",
    "f1.append(f1_score(aug_y_test,pred_grid_dt))"
   ]
  },
  {
   "cell_type": "markdown",
   "id": "d5803d9a",
   "metadata": {},
   "source": [
    "--------------------------------------------------------------------------------------------------------------------------"
   ]
  },
  {
   "cell_type": "markdown",
   "id": "5cc97858",
   "metadata": {},
   "source": [
    "#### Random Forest "
   ]
  },
  {
   "cell_type": "code",
   "execution_count": 36,
   "id": "879ed475",
   "metadata": {},
   "outputs": [
    {
     "name": "stdout",
     "output_type": "stream",
     "text": [
      "[[2353  553]\n",
      " [ 463  463]]\n",
      "              precision    recall  f1-score   support\n",
      "\n",
      "         0.0       0.84      0.81      0.82      2906\n",
      "         1.0       0.46      0.50      0.48       926\n",
      "\n",
      "    accuracy                           0.73      3832\n",
      "   macro avg       0.65      0.65      0.65      3832\n",
      "weighted avg       0.74      0.73      0.74      3832\n",
      "\n"
     ]
    }
   ],
   "source": [
    "from sklearn.ensemble import RandomForestClassifier\n",
    "rf = RandomForestClassifier()\n",
    "\n",
    "rf.fit(aug_x_train1,aug_y_train1)\n",
    "\n",
    "pred_rf = rf.predict(aug_x_test)\n",
    "\n",
    "from sklearn.metrics import confusion_matrix,classification_report\n",
    "tab_rf = confusion_matrix(aug_y_test, pred_rf)\n",
    "print(tab_rf)\n",
    "\n",
    "print(classification_report(aug_y_test,pred_rf))"
   ]
  },
  {
   "cell_type": "code",
   "execution_count": 37,
   "id": "82c39d92",
   "metadata": {},
   "outputs": [],
   "source": [
    "model.append(\"Random Forest\")\n",
    "accuracy.append(accuracy_score(aug_y_test,pred_rf))\n",
    "recall.append(recall_score(aug_y_test,pred_rf))\n",
    "precision.append(precision_score(aug_y_test,pred_rf))\n",
    "f1.append(f1_score(aug_y_test,pred_rf))"
   ]
  },
  {
   "cell_type": "markdown",
   "id": "5b503008",
   "metadata": {},
   "source": [
    "-------------------------------------------------------------------------------------------------------------------------"
   ]
  },
  {
   "cell_type": "markdown",
   "id": "e8c742bb",
   "metadata": {},
   "source": [
    "#### Random Forest with Grid Search "
   ]
  },
  {
   "cell_type": "code",
   "execution_count": 38,
   "id": "71543e96",
   "metadata": {},
   "outputs": [
    {
     "name": "stdout",
     "output_type": "stream",
     "text": [
      "{'criterion': 'entropy', 'n_estimators': 200}\n",
      "[[2335  571]\n",
      " [ 443  483]]\n",
      "              precision    recall  f1-score   support\n",
      "\n",
      "         0.0       0.84      0.80      0.82      2906\n",
      "         1.0       0.46      0.52      0.49       926\n",
      "\n",
      "    accuracy                           0.74      3832\n",
      "   macro avg       0.65      0.66      0.65      3832\n",
      "weighted avg       0.75      0.74      0.74      3832\n",
      "\n"
     ]
    }
   ],
   "source": [
    "search_dict={'criterion':('entropy','gini'),'n_estimators':(100,150,200)}\n",
    "\n",
    "from sklearn.model_selection import GridSearchCV\n",
    "rf = RandomForestClassifier()\n",
    "grid_rf=GridSearchCV(rf,param_grid=search_dict)\n",
    "\n",
    "grid_rf.fit(aug_x_train1, aug_y_train1)\n",
    "\n",
    "print(grid_rf.best_params_)\n",
    "\n",
    "pred_grid_rf = grid_rf.predict(aug_x_test)\n",
    "\n",
    "tab_grid_rf = confusion_matrix(aug_y_test, pred_grid_rf)\n",
    "print(tab_grid_rf)\n",
    "\n",
    "print(classification_report(aug_y_test, pred_grid_rf))"
   ]
  },
  {
   "cell_type": "code",
   "execution_count": 39,
   "id": "569963d5",
   "metadata": {},
   "outputs": [],
   "source": [
    "model.append(\"Random Forest with grid search\")\n",
    "accuracy.append(accuracy_score(aug_y_test,pred_rf))\n",
    "recall.append(recall_score(aug_y_test,pred_rf))\n",
    "precision.append(precision_score(aug_y_test,pred_rf))\n",
    "f1.append(f1_score(aug_y_test,pred_rf))"
   ]
  },
  {
   "cell_type": "markdown",
   "id": "0f838a72",
   "metadata": {},
   "source": [
    "-------------------------------------------------------------------------------------------------------------------------"
   ]
  },
  {
   "cell_type": "markdown",
   "id": "9015307e",
   "metadata": {},
   "source": [
    "### Model Evaluation "
   ]
  },
  {
   "cell_type": "code",
   "execution_count": 40,
   "id": "42c2358e",
   "metadata": {},
   "outputs": [
    {
     "data": {
      "text/html": [
       "<div>\n",
       "<style scoped>\n",
       "    .dataframe tbody tr th:only-of-type {\n",
       "        vertical-align: middle;\n",
       "    }\n",
       "\n",
       "    .dataframe tbody tr th {\n",
       "        vertical-align: top;\n",
       "    }\n",
       "\n",
       "    .dataframe thead th {\n",
       "        text-align: right;\n",
       "    }\n",
       "</style>\n",
       "<table border=\"1\" class=\"dataframe\">\n",
       "  <thead>\n",
       "    <tr style=\"text-align: right;\">\n",
       "      <th></th>\n",
       "      <th>Model</th>\n",
       "      <th>Accuracy</th>\n",
       "      <th>Recall</th>\n",
       "      <th>Precision</th>\n",
       "      <th>F1_score</th>\n",
       "    </tr>\n",
       "  </thead>\n",
       "  <tbody>\n",
       "    <tr>\n",
       "      <th>0</th>\n",
       "      <td>Logistic Regression</td>\n",
       "      <td>0.620564</td>\n",
       "      <td>0.536717</td>\n",
       "      <td>0.326544</td>\n",
       "      <td>0.406046</td>\n",
       "    </tr>\n",
       "    <tr>\n",
       "      <th>1</th>\n",
       "      <td>KNN</td>\n",
       "      <td>0.653706</td>\n",
       "      <td>0.547516</td>\n",
       "      <td>0.358304</td>\n",
       "      <td>0.433148</td>\n",
       "    </tr>\n",
       "    <tr>\n",
       "      <th>2</th>\n",
       "      <td>Decision Tree</td>\n",
       "      <td>0.669885</td>\n",
       "      <td>0.494600</td>\n",
       "      <td>0.364940</td>\n",
       "      <td>0.419991</td>\n",
       "    </tr>\n",
       "    <tr>\n",
       "      <th>3</th>\n",
       "      <td>Decision Tree with grid search</td>\n",
       "      <td>0.736169</td>\n",
       "      <td>0.570194</td>\n",
       "      <td>0.462752</td>\n",
       "      <td>0.510885</td>\n",
       "    </tr>\n",
       "    <tr>\n",
       "      <th>4</th>\n",
       "      <td>Random Forest</td>\n",
       "      <td>0.734864</td>\n",
       "      <td>0.500000</td>\n",
       "      <td>0.455709</td>\n",
       "      <td>0.476828</td>\n",
       "    </tr>\n",
       "    <tr>\n",
       "      <th>5</th>\n",
       "      <td>Random Forest with grid search</td>\n",
       "      <td>0.734864</td>\n",
       "      <td>0.500000</td>\n",
       "      <td>0.455709</td>\n",
       "      <td>0.476828</td>\n",
       "    </tr>\n",
       "  </tbody>\n",
       "</table>\n",
       "</div>"
      ],
      "text/plain": [
       "                            Model  Accuracy    Recall  Precision  F1_score\n",
       "0             Logistic Regression  0.620564  0.536717   0.326544  0.406046\n",
       "1                             KNN  0.653706  0.547516   0.358304  0.433148\n",
       "2                   Decision Tree  0.669885  0.494600   0.364940  0.419991\n",
       "3  Decision Tree with grid search  0.736169  0.570194   0.462752  0.510885\n",
       "4                   Random Forest  0.734864  0.500000   0.455709  0.476828\n",
       "5  Random Forest with grid search  0.734864  0.500000   0.455709  0.476828"
      ]
     },
     "execution_count": 40,
     "metadata": {},
     "output_type": "execute_result"
    }
   ],
   "source": [
    "# To evaluate the performance of the model we have created a dataframe based on their accuracy, recall, precision and f1 score\n",
    "\n",
    "Evaluation_df = pd.DataFrame({\"Model\":model, \"Accuracy\":accuracy, \"Recall\":recall, \"Precision\":precision, \"F1_score\":f1})\n",
    "Evaluation_df"
   ]
  },
  {
   "cell_type": "markdown",
   "id": "e2a13856",
   "metadata": {},
   "source": [
    "We can see that Decision tree with grid search and Random Forest with grid search are giving good results as compared to other models."
   ]
  },
  {
   "cell_type": "code",
   "execution_count": null,
   "id": "192e19a5",
   "metadata": {},
   "outputs": [],
   "source": []
  }
 ],
 "metadata": {
  "kernelspec": {
   "display_name": "Python 3",
   "language": "python",
   "name": "python3"
  },
  "language_info": {
   "codemirror_mode": {
    "name": "ipython",
    "version": 3
   },
   "file_extension": ".py",
   "mimetype": "text/x-python",
   "name": "python",
   "nbconvert_exporter": "python",
   "pygments_lexer": "ipython3",
   "version": "3.8.8"
  }
 },
 "nbformat": 4,
 "nbformat_minor": 5
}
